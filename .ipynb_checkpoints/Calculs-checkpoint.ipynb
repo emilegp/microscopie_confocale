{
 "cells": [
  {
   "cell_type": "markdown",
   "id": "8c753f6e-6981-41a2-8111-6c2d8d9c76eb",
   "metadata": {},
   "source": [
    "# Calcul de la résolution axiale"
   ]
  },
  {
   "cell_type": "code",
   "execution_count": 1,
   "id": "a8163882-2024-4504-b6da-23fc54f0d94d",
   "metadata": {
    "execution": {
     "iopub.execute_input": "2024-09-24T13:14:31.215702Z",
     "iopub.status.busy": "2024-09-24T13:14:31.214457Z",
     "iopub.status.idle": "2024-09-24T13:14:31.834067Z",
     "shell.execute_reply": "2024-09-24T13:14:31.833425Z",
     "shell.execute_reply.started": "2024-09-24T13:14:31.215523Z"
    }
   },
   "outputs": [],
   "source": [
    "import numpy as np\n",
    "# import matplotlib.pyplot as plt\n",
    "import sympy as sp\n",
    "sp.init_printing()"
   ]
  },
  {
   "cell_type": "markdown",
   "id": "050badfa-080d-4072-b2a5-42373f26ff3b",
   "metadata": {
    "execution": {
     "iopub.execute_input": "2024-09-23T17:55:21.694099Z",
     "iopub.status.busy": "2024-09-23T17:55:21.693497Z",
     "iopub.status.idle": "2024-09-23T17:55:21.697861Z",
     "shell.execute_reply": "2024-09-23T17:55:21.696843Z",
     "shell.execute_reply.started": "2024-09-23T17:55:21.694071Z"
    }
   },
   "source": [
    "## Définition des matrices de transfert"
   ]
  },
  {
   "cell_type": "code",
   "execution_count": 2,
   "id": "a126a700-8c1f-4789-8fc2-ee6b44405d5b",
   "metadata": {
    "execution": {
     "iopub.execute_input": "2024-09-24T13:14:31.835248Z",
     "iopub.status.busy": "2024-09-24T13:14:31.835040Z",
     "iopub.status.idle": "2024-09-24T13:14:31.839803Z",
     "shell.execute_reply": "2024-09-24T13:14:31.839208Z",
     "shell.execute_reply.started": "2024-09-24T13:14:31.835221Z"
    }
   },
   "outputs": [],
   "source": [
    "def Mt(d):\n",
    "    '''Translation'''\n",
    "    M = np.array([[1, d],\n",
    "                  [0, 1]])\n",
    "    return M\n",
    "\n",
    "def Ml(f):\n",
    "    '''Thin Lens'''\n",
    "    M = np.array([[1, 0],\n",
    "                  [-1/f, 1]])\n",
    "    return M"
   ]
  },
  {
   "cell_type": "markdown",
   "id": "dfc7dd2c-c783-47bb-9d29-33b8e8b9ad3a",
   "metadata": {},
   "source": [
    "## Paramètres du système"
   ]
  },
  {
   "cell_type": "code",
   "execution_count": 3,
   "id": "cbce1348-9c8a-4082-8e0f-31fb31d9ab54",
   "metadata": {
    "execution": {
     "iopub.execute_input": "2024-09-24T13:14:31.840683Z",
     "iopub.status.busy": "2024-09-24T13:14:31.840477Z",
     "iopub.status.idle": "2024-09-24T13:14:31.845489Z",
     "shell.execute_reply": "2024-09-24T13:14:31.844945Z",
     "shell.execute_reply.started": "2024-09-24T13:14:31.840657Z"
    }
   },
   "outputs": [],
   "source": [
    "# distances focales des lentilles\n",
    "f = sp.symbols('f')\n",
    "\n",
    "# diamètre des lentilles\n",
    "phi = sp.symbols('phi')\n",
    "\n",
    "# diamètre du sténopé\n",
    "d = sp.symbols('d')\n",
    "\n",
    "# distance entre les lentilles\n",
    "L = sp.symbols('L')\n",
    "\n",
    "# distance entre la lentille f1 et le plan focal\n",
    "z = sp.symbols('z')"
   ]
  },
  {
   "cell_type": "markdown",
   "id": "0d4cf922-7d25-4d0a-8bba-ded73cb5edd7",
   "metadata": {},
   "source": [
    "## Matrice de transfert\n",
    "\n",
    "- $M_{t1}$ entre le plan focal et $f_1$\n",
    "- $M_{f1}$ pour la lentille $f_1$\n",
    "- $M_{t2}$ entre $f_1$ et $f_2$\n",
    "- $M_{f2}$ pour la lentille $f_2$\n",
    "- $M_{t3}$ entre $f_2$ et le pinhole\n",
    "\n",
    "$$M = M_{t3}M_{f2}M_{t2}M_{f1}M_{t1}$$ "
   ]
  },
  {
   "cell_type": "code",
   "execution_count": 4,
   "id": "31fc29b5-e497-4873-a4b5-451521eccb4a",
   "metadata": {
    "execution": {
     "iopub.execute_input": "2024-09-24T13:14:31.846176Z",
     "iopub.status.busy": "2024-09-24T13:14:31.846047Z",
     "iopub.status.idle": "2024-09-24T13:14:32.539581Z",
     "shell.execute_reply": "2024-09-24T13:14:32.538282Z",
     "shell.execute_reply.started": "2024-09-24T13:14:31.846158Z"
    }
   },
   "outputs": [
    {
     "data": {
      "image/png": "[encoded data removed]",
      "text/latex": [
       "$\\displaystyle \\left[\\begin{matrix}-1 & f - z\\\\\\frac{L - 2 f}{f^{2}} & \\frac{- L f + f^{2} + z \\left(L - 2 f\\right)}{f^{2}}\\end{matrix}\\right]$"
      ],
      "text/plain": [
       "⎡  -1              f - z         ⎤\n",
       "⎢                                ⎥\n",
       "⎢                 2              ⎥\n",
       "⎢L - 2⋅f  -L⋅f + f  + z⋅(L - 2⋅f)⎥\n",
       "⎢───────  ───────────────────────⎥\n",
       "⎢    2                2          ⎥\n",
       "⎣   f                f           ⎦"
      ]
     },
     "execution_count": 4,
     "metadata": {},
     "output_type": "execute_result"
    }
   ],
   "source": [
    "M = Mt(f)@Ml(f)@Mt(L)@Ml(f)@Mt(z)\n",
    "sp.simplify(M)"
   ]
  },
  {
   "cell_type": "markdown",
   "id": "2385c62a-d7fd-4b60-a4d7-1af8bc469ad3",
   "metadata": {},
   "source": [
    "### Vérification de la validité par le calcul du déterminant\n",
    "\n",
    "Si égal à 1, c'est valide."
   ]
  },
  {
   "cell_type": "code",
   "execution_count": 5,
   "id": "eb2421c6-db16-4d93-9adb-8dcf87d3a7b7",
   "metadata": {
    "execution": {
     "iopub.execute_input": "2024-09-24T13:14:32.542144Z",
     "iopub.status.busy": "2024-09-24T13:14:32.541781Z",
     "iopub.status.idle": "2024-09-24T13:14:32.827938Z",
     "shell.execute_reply": "2024-09-24T13:14:32.826777Z",
     "shell.execute_reply.started": "2024-09-24T13:14:32.542092Z"
    }
   },
   "outputs": [
    {
     "data": {
      "image/png": "[encoded data removed]",
      "text/latex": [
       "$\\displaystyle 1$"
      ],
      "text/plain": [
       "1"
      ]
     },
     "execution_count": 5,
     "metadata": {},
     "output_type": "execute_result"
    }
   ],
   "source": [
    "M_sp = sp.Matrix(M)\n",
    "M_sp.det()"
   ]
  },
  {
   "cell_type": "markdown",
   "id": "cd19ade5-80a2-4973-b1e6-837aa3be86a4",
   "metadata": {},
   "source": [
    "## Rayon de chaque côté du sténopé"
   ]
  },
  {
   "cell_type": "code",
   "execution_count": 6,
   "id": "1e2264fd-e946-4ed6-82f2-29da285feb31",
   "metadata": {
    "execution": {
     "iopub.execute_input": "2024-09-24T13:14:32.831339Z",
     "iopub.status.busy": "2024-09-24T13:14:32.830431Z",
     "iopub.status.idle": "2024-09-24T13:14:32.844232Z",
     "shell.execute_reply": "2024-09-24T13:14:32.843333Z",
     "shell.execute_reply.started": "2024-09-24T13:14:32.831282Z"
    }
   },
   "outputs": [],
   "source": [
    "# en haut du sténopé\n",
    "yf1 = d/2\n",
    "alphaf1 = -sp.atan((phi-d)/(2*f))\n",
    "\n",
    "# en bas du sténopé\n",
    "yf2 = -d/2\n",
    "alphaf2 = -sp.atan((phi+d)/(2*f))"
   ]
  },
  {
   "cell_type": "markdown",
   "id": "c8975765-586b-4d3c-b240-0356b8913a84",
   "metadata": {},
   "source": [
    "## Vecteurs des rayons"
   ]
  },
  {
   "cell_type": "code",
   "execution_count": 7,
   "id": "52ead649-d606-45c6-95e9-bc2aead23644",
   "metadata": {
    "execution": {
     "iopub.execute_input": "2024-09-24T13:14:32.846188Z",
     "iopub.status.busy": "2024-09-24T13:14:32.845822Z",
     "iopub.status.idle": "2024-09-24T13:14:32.854718Z",
     "shell.execute_reply": "2024-09-24T13:14:32.853807Z",
     "shell.execute_reply.started": "2024-09-24T13:14:32.846144Z"
    }
   },
   "outputs": [],
   "source": [
    "alphai1 = sp.symbols(\"alpha_i1\")\n",
    "alphai2 = sp.symbols(\"alpha_i2\")\n",
    "\n",
    "vf1 = sp.Matrix([yf1, alphaf1])\n",
    "vf2 = sp.Matrix([yf2, alphaf2])"
   ]
  },
  {
   "cell_type": "markdown",
   "id": "051008bf-db4f-498a-9a1d-292f608eefc6",
   "metadata": {},
   "source": [
    "## Résolution des systèmes d'équations\n",
    "\n",
    "$$y_f = M y_i$$"
   ]
  },
  {
   "cell_type": "code",
   "execution_count": 8,
   "id": "e28a3d12-6880-4b92-aa45-17d2f98faa91",
   "metadata": {
    "execution": {
     "iopub.execute_input": "2024-09-24T13:14:32.857689Z",
     "iopub.status.busy": "2024-09-24T13:14:32.856995Z",
     "iopub.status.idle": "2024-09-24T13:14:33.405507Z",
     "shell.execute_reply": "2024-09-24T13:14:33.404323Z",
     "shell.execute_reply.started": "2024-09-24T13:14:32.857635Z"
    }
   },
   "outputs": [
    {
     "data": {
      "image/png": "[encoded data removed]",
      "text/latex": [
       "$\\displaystyle \\left[ \\frac{f \\left(L d - d f + 2 f^{2} \\operatorname{atan}{\\left(\\frac{d - \\phi}{2 f} \\right)}\\right)}{L d - 2 d f + 2 f^{2} \\operatorname{atan}{\\left(\\frac{d - \\phi}{2 f} \\right)}}\\right]$"
      ],
      "text/plain": [
       "⎡  ⎛               2     ⎛d - φ⎞⎞⎤\n",
       "⎢f⋅⎜L⋅d - d⋅f + 2⋅f ⋅atan⎜─────⎟⎟⎥\n",
       "⎢  ⎝                     ⎝ 2⋅f ⎠⎠⎥\n",
       "⎢────────────────────────────────⎥\n",
       "⎢                  2     ⎛d - φ⎞ ⎥\n",
       "⎢ L⋅d - 2⋅d⋅f + 2⋅f ⋅atan⎜─────⎟ ⎥\n",
       "⎣                        ⎝ 2⋅f ⎠ ⎦"
      ]
     },
     "execution_count": 8,
     "metadata": {},
     "output_type": "execute_result"
    }
   ],
   "source": [
    "solve1 = M_sp.LUsolve(vf1)\n",
    "z1 = sp.solve(solve1[0], z)\n",
    "z1"
   ]
  },
  {
   "cell_type": "code",
   "execution_count": 9,
   "id": "392de0f1-8b17-410a-a553-1895102f4152",
   "metadata": {
    "execution": {
     "iopub.execute_input": "2024-09-24T13:14:33.408463Z",
     "iopub.status.busy": "2024-09-24T13:14:33.407649Z",
     "iopub.status.idle": "2024-09-24T13:14:33.706508Z",
     "shell.execute_reply": "2024-09-24T13:14:33.705929Z",
     "shell.execute_reply.started": "2024-09-24T13:14:33.408409Z"
    }
   },
   "outputs": [
    {
     "data": {
      "image/png": "[encoded data removed]",
      "text/latex": [
       "$\\displaystyle 0.0348923054224318$"
      ],
      "text/plain": [
       "0.0348923054224318"
      ]
     },
     "execution_count": 9,
     "metadata": {},
     "output_type": "execute_result"
    }
   ],
   "source": [
    "values = {f:35e-3, phi:25.4e-3, d:75e-6, L:35e-3}\n",
    "z1[0].subs(values)"
   ]
  },
  {
   "cell_type": "code",
   "execution_count": 10,
   "id": "bb28b29c-c2e5-4341-a5a6-cc0d0a55a976",
   "metadata": {
    "execution": {
     "iopub.execute_input": "2024-09-24T13:14:33.707635Z",
     "iopub.status.busy": "2024-09-24T13:14:33.707463Z",
     "iopub.status.idle": "2024-09-24T13:14:34.198813Z",
     "shell.execute_reply": "2024-09-24T13:14:34.197742Z",
     "shell.execute_reply.started": "2024-09-24T13:14:33.707612Z"
    }
   },
   "outputs": [
    {
     "data": {
      "image/png": "[encoded data removed]",
      "text/latex": [
       "$\\displaystyle \\left[ \\frac{f \\left(L d - d f + 2 f^{2} \\operatorname{atan}{\\left(\\frac{d + \\phi}{2 f} \\right)}\\right)}{L d - 2 d f + 2 f^{2} \\operatorname{atan}{\\left(\\frac{d + \\phi}{2 f} \\right)}}\\right]$"
      ],
      "text/plain": [
       "⎡  ⎛               2     ⎛d + φ⎞⎞⎤\n",
       "⎢f⋅⎜L⋅d - d⋅f + 2⋅f ⋅atan⎜─────⎟⎟⎥\n",
       "⎢  ⎝                     ⎝ 2⋅f ⎠⎠⎥\n",
       "⎢────────────────────────────────⎥\n",
       "⎢                  2     ⎛d + φ⎞ ⎥\n",
       "⎢ L⋅d - 2⋅d⋅f + 2⋅f ⋅atan⎜─────⎟ ⎥\n",
       "⎣                        ⎝ 2⋅f ⎠ ⎦"
      ]
     },
     "execution_count": 10,
     "metadata": {},
     "output_type": "execute_result"
    }
   ],
   "source": [
    "solve2 = M_sp.LUsolve(vf2)\n",
    "z2 = sp.solve(solve2[0], z)\n",
    "z2"
   ]
  },
  {
   "cell_type": "code",
   "execution_count": 11,
   "id": "be8d2bdd-b91d-4e89-8928-379ef5c1e871",
   "metadata": {
    "execution": {
     "iopub.execute_input": "2024-09-24T13:14:34.201103Z",
     "iopub.status.busy": "2024-09-24T13:14:34.200754Z",
     "iopub.status.idle": "2024-09-24T13:14:34.490141Z",
     "shell.execute_reply": "2024-09-24T13:14:34.488745Z",
     "shell.execute_reply.started": "2024-09-24T13:14:34.201052Z"
    }
   },
   "outputs": [
    {
     "data": {
      "image/png": "[encoded data removed]",
      "text/latex": [
       "$\\displaystyle 0.0351077717415513$"
      ],
      "text/plain": [
       "0.0351077717415513"
      ]
     },
     "execution_count": 11,
     "metadata": {},
     "output_type": "execute_result"
    }
   ],
   "source": [
    "z2[0].subs(values)"
   ]
  },
  {
   "cell_type": "code",
   "execution_count": 12,
   "id": "df2344d1-266e-42f7-834b-3fb10c89c1e9",
   "metadata": {
    "execution": {
     "iopub.execute_input": "2024-09-24T13:14:34.492882Z",
     "iopub.status.busy": "2024-09-24T13:14:34.492106Z",
     "iopub.status.idle": "2024-09-24T13:14:34.748055Z",
     "shell.execute_reply": "2024-09-24T13:14:34.746865Z",
     "shell.execute_reply.started": "2024-09-24T13:14:34.492841Z"
    }
   },
   "outputs": [
    {
     "data": {
      "image/png": "[encoded data removed]",
      "text/latex": [
       "$\\displaystyle 0.000215466319119513$"
      ],
      "text/plain": [
       "0.000215466319119513"
      ]
     },
     "execution_count": 12,
     "metadata": {},
     "output_type": "execute_result"
    }
   ],
   "source": [
    "z2[0].subs(values) - z1[0].subs(values)"
   ]
  },
  {
   "cell_type": "markdown",
   "id": "0ccd3d9b-5c02-4f90-a979-2165ed6fb273",
   "metadata": {},
   "source": [
    "## Wrap tout dans une fonction"
   ]
  },
  {
   "cell_type": "code",
   "execution_count": 17,
   "id": "8fc0f4c9-a40a-4c84-9994-5d676024335f",
   "metadata": {
    "execution": {
     "iopub.execute_input": "2024-09-24T13:18:00.506186Z",
     "iopub.status.busy": "2024-09-24T13:18:00.505513Z",
     "iopub.status.idle": "2024-09-24T13:18:00.517354Z",
     "shell.execute_reply": "2024-09-24T13:18:00.516187Z",
     "shell.execute_reply.started": "2024-09-24T13:18:00.506138Z"
    }
   },
   "outputs": [],
   "source": [
    "def res_axial(pinhole, focal, lens_distance):\n",
    "    \"\"\"\n",
    "    Calcule la résolution axiale en fonction du diamètre du trou, de la focale, et de la distance entre les lentilles.\n",
    "\n",
    "    Paramètres :\n",
    "    ------------\n",
    "    pinhole : float\n",
    "        Diamètre du trou en mètres.\n",
    "    focal : float\n",
    "        Longueur focale de la lentille en mètres.\n",
    "    lens_distance : float\n",
    "        Distance entre les lentilles en mètres.\n",
    "\n",
    "    Retour :\n",
    "    --------\n",
    "    res : expression symbolique\n",
    "        La résolution axiale en mètres.\n",
    "    \"\"\"\n",
    "    f = sp.symbols('f')\n",
    "    phi = sp.symbols('phi')\n",
    "    d = sp.symbols('d')\n",
    "    L = sp.symbols('L')\n",
    "    z = sp.symbols('z')\n",
    "\n",
    "    M = Mt(f)@Ml(f)@Mt(L)@Ml(f)@Mt(z)\n",
    "    M_sp = sp.Matrix(M)\n",
    "    \n",
    "    yf1 = d/2\n",
    "    alphaf1 = -sp.atan((phi-d)/(2*f))\n",
    "    \n",
    "    yf2 = -d/2\n",
    "    alphaf2 = -sp.atan((phi+d)/(2*f))\n",
    "\n",
    "    alphai1 = sp.symbols(\"alpha_i1\")\n",
    "    alphai2 = sp.symbols(\"alpha_i2\")\n",
    "\n",
    "    vf1 = sp.Matrix([yf1, alphaf1])\n",
    "    vf2 = sp.Matrix([yf2, alphaf2])\n",
    "\n",
    "    solve1 = M_sp.LUsolve(vf1)\n",
    "    z1 = sp.solve(solve1[0], z)\n",
    "\n",
    "    solve2 = M_sp.LUsolve(vf2)\n",
    "    z2 = sp.solve(solve2[0], z)\n",
    "\n",
    "    values = {f:focal, phi:25.4e-3, d:pinhole, L:lens_distance}\n",
    "    res = z2[0].subs(values) - z1[0].subs(values)\n",
    "\n",
    "    return res"
   ]
  },
  {
   "cell_type": "code",
   "execution_count": 14,
   "id": "dd38a2b8-91a6-4882-a6c8-b8675d71109a",
   "metadata": {
    "execution": {
     "iopub.execute_input": "2024-09-24T13:14:34.761096Z",
     "iopub.status.busy": "2024-09-24T13:14:34.760843Z",
     "iopub.status.idle": "2024-09-24T13:14:35.243284Z",
     "shell.execute_reply": "2024-09-24T13:14:35.242040Z",
     "shell.execute_reply.started": "2024-09-24T13:14:34.761067Z"
    }
   },
   "outputs": [
    {
     "name": "stdout",
     "output_type": "stream",
     "text": [
      "0.000215466319119513\n"
     ]
    },
    {
     "data": {
      "image/png": "[encoded data removed]",
      "text/latex": [
       "$\\displaystyle 0.000215466319119513$"
      ],
      "text/plain": [
       "0.000215466319119513"
      ]
     },
     "execution_count": 14,
     "metadata": {},
     "output_type": "execute_result"
    }
   ],
   "source": [
    "f = L = 35e-3\n",
    "d = 75e-6\n",
    "res_axial(d, f, L)"
   ]
  },
  {
   "cell_type": "code",
   "execution_count": 15,
   "id": "26341c1a-110c-4ccc-8e18-9610f9f0d98c",
   "metadata": {
    "execution": {
     "iopub.execute_input": "2024-09-24T13:16:59.863153Z",
     "iopub.status.busy": "2024-09-24T13:16:59.862905Z",
     "iopub.status.idle": "2024-09-24T13:17:00.165623Z",
     "shell.execute_reply": "2024-09-24T13:17:00.164923Z",
     "shell.execute_reply.started": "2024-09-24T13:16:59.863130Z"
    }
   },
   "outputs": [],
   "source": [
    "import matplotlib.pyplot as plt"
   ]
  },
  {
   "cell_type": "code",
   "execution_count": 18,
   "id": "c5982d47-f18d-4fb7-af4b-f54d7b62bfbe",
   "metadata": {
    "execution": {
     "iopub.execute_input": "2024-09-24T13:18:02.720767Z",
     "iopub.status.busy": "2024-09-24T13:18:02.720015Z",
     "iopub.status.idle": "2024-09-24T13:19:26.570649Z",
     "shell.execute_reply": "2024-09-24T13:19:26.569919Z",
     "shell.execute_reply.started": "2024-09-24T13:18:02.720692Z"
    }
   },
   "outputs": [
    {
     "data": {
      "image/png": "[encoded data removed]",
      "text/plain": [
       "<Figure size 432x288 with 1 Axes>"
      ]
     },
     "metadata": {
      "needs_background": "light"
     },
     "output_type": "display_data"
    }
   ],
   "source": [
    "focals = [25e-3, 35e-3, 50e-3, 100e-3, 150e-3]\n",
    "pinhole_sizes = np.linspace(50e-6, 150e-6, 100)\n",
    "L = lambda f: f\n",
    "\n",
    "for f in focals:\n",
    "    res_values = [res_axial(d, f, L(f)) for d in pinhole_sizes]\n",
    "    plt.plot(pinhole_sizes * 1e6, res_values, label=f'f = {f*1e3:.0f} mm')\n",
    "\n",
    "plt.xlabel(\"Taille du sténopé (µm)\")\n",
    "plt.ylabel(\"Résolution axiale (δz)\")\n",
    "plt.legend()\n",
    "plt.grid(True)\n",
    "plt.title(\"Résolution axiale en fonction de la taille du sténopé (δz(d))\")\n",
    "plt.show()"
   ]
  },
  {
   "cell_type": "code",
   "execution_count": 20,
   "id": "7648b45f-f76a-4166-a0c2-68a299b9c6d9",
   "metadata": {
    "execution": {
     "iopub.execute_input": "2024-09-24T13:23:25.018651Z",
     "iopub.status.busy": "2024-09-24T13:23:25.018482Z",
     "iopub.status.idle": "2024-09-24T13:24:34.106242Z",
     "shell.execute_reply": "2024-09-24T13:24:34.105483Z",
     "shell.execute_reply.started": "2024-09-24T13:23:25.018632Z"
    }
   },
   "outputs": [
    {
     "data": {
      "image/png": "[encoded data removed]",
      "text/plain": [
       "<Figure size 432x288 with 1 Axes>"
      ]
     },
     "metadata": {
      "needs_background": "light"
     },
     "output_type": "display_data"
    }
   ],
   "source": [
    "pinhole_sizes = [50e-6, 75e-6, 100e-6, 150e-6]\n",
    "focals = np.linspace(25e-3, 150e-3, 100)\n",
    "L = lambda f: f  # si L(f) appelé, L = f\n",
    "\n",
    "# Tracer une courbe pour chaque taille de sténopé\n",
    "for pinhole in pinhole_sizes:\n",
    "    res_values = [res_axial(pinhole, f, L(f)) for f in focals]\n",
    "    plt.plot(focals * 1e3, res_values, label=f'd = {pinhole*1e6:.0f} µm')\n",
    "\n",
    "# Paramètres d'affichage\n",
    "plt.xlabel(\"Focale des lentilles (mm)\")\n",
    "plt.ylabel(\"Résolution axiale (δz)\")\n",
    "plt.legend()\n",
    "plt.grid(True)\n",
    "plt.title(\"Résolution axiale en fonction de la focale des lentilles (δz(f))\")\n",
    "plt.show()\n"
   ]
  },
  {
   "cell_type": "code",
   "execution_count": 21,
   "id": "4ac65953-f53d-4fb1-88e7-50b3871b1966",
   "metadata": {
    "execution": {
     "iopub.execute_input": "2024-09-24T13:24:59.750442Z",
     "iopub.status.busy": "2024-09-24T13:24:59.750181Z",
     "iopub.status.idle": "2024-09-24T13:26:23.523961Z",
     "shell.execute_reply": "2024-09-24T13:26:23.523372Z",
     "shell.execute_reply.started": "2024-09-24T13:24:59.750420Z"
    }
   },
   "outputs": [
    {
     "data": {
      "image/png": "[encoded data removed]",
      "text/plain": [
       "<Figure size 432x288 with 1 Axes>"
      ]
     },
     "metadata": {
      "needs_background": "light"
     },
     "output_type": "display_data"
    }
   ],
   "source": [
    "pinhole = 75e-6  # 75 µm\n",
    "focals = [25e-3, 35e-3, 50e-3, 100e-3, 150e-3]  # en mètres\n",
    "lens_distances = np.linspace(25e-3, 150e-3, 100)  # en mètres\n",
    "\n",
    "for f in focals:\n",
    "    res_values = [res_axial(pinhole, f, L) for L in lens_distances]\n",
    "    plt.plot(lens_distances * 1e3, res_values, label=f'f = {f*1e3:.0f} mm')\n",
    "\n",
    "plt.xlabel(\"Distance entre les lentilles (mm)\")\n",
    "plt.ylabel(\"Résolution axiale (δz)\")\n",
    "plt.legend()\n",
    "plt.grid(True)\n",
    "plt.title(\"Résolution axiale en fonction de la distance entre les lentilles (δz(L))\")\n",
    "plt.show()"
   ]
  },
  {
   "cell_type": "code",
   "execution_count": null,
   "id": "94c77b2b-d6c0-404d-ab2b-ad7e3d34a784",
   "metadata": {},
   "outputs": [],
   "source": []
  }
 ],
 "metadata": {
  "kernelspec": {
   "display_name": "phs2223",
   "language": "python",
   "name": "phs2223"
  },
  "language_info": {
   "codemirror_mode": {
    "name": "ipython",
    "version": 3
   },
   "file_extension": ".py",
   "mimetype": "text/x-python",
   "name": "python",
   "nbconvert_exporter": "python",
   "pygments_lexer": "ipython3",
   "version": "3.8.20"
  }
 },
 "nbformat": 4,
 "nbformat_minor": 5
}
